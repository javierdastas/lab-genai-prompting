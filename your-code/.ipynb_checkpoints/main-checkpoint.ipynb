{
 "cells": [
  {
   "cell_type": "markdown",
   "metadata": {
    "vscode": {
     "languageId": "plaintext"
    }
   },
   "source": [
    "# LAB | GenAI: Exploring Prompting Techniques for Customer Support Automation"
   ]
  },
  {
   "cell_type": "markdown",
   "metadata": {},
   "source": [
    "## Tasks\n",
    "\n",
    "**Objective:**\n",
    "\n",
    "Learn and apply different prompting techniques to improve the performance of a language model in generating customer support responses.\n",
    "\n",
    "**Business Case:**\n",
    "\n",
    "Imagine you are working for a company that provides a variety of services, including technical support, billing inquiries, and general customer service. Your task is to use a language model to automate responses to customer emails.\n",
    "\n",
    "**Dataset:**\n",
    "\n",
    "Download the FAQ of a company to do this exercise. Below you have a couple of examples, but feel free to find your own:\n",
    " - https://info.undp.org/erecruit/documents/FAQ.pdf\n",
    " - https://www.cambridgeenglish.org/Images/696254-faqs-digital-cambridge-english-qualifications.pdf\n",
    " - https://www.wscc.nt.ca/sites/default/files/documents/0009-518-Item-04-INDESIGN-FAQ-Template%203%20-%20MINUS%20FIRST%20QUESTION.pdf\n",
    "\n",
    "\n",
    "### Task 1\n",
    "\n",
    "Download and Read the PDF:\n",
    "\n",
    "  - Choose one of the provided FAQ PDFs or find your own relevant FAQ document.\n",
    "  - Read through the FAQ document carefully to understand the types of questions and answers it contains.\n",
    "  - Create Questions Based on the PDF ( you can use ChatGPT for this)\n",
    "    - Generate a list of potential customer questions that could be answered using the information from the FAQ PDF.\n",
    "    - Ensure your questions cover a variety of topics and difficulty levels found within the document.\n",
    "    - Generate Responses Using Different Prompting Techniques:\n",
    "\n",
    "Use a language model (such as ChatGPT) to generate responses to your questions.\n",
    "Experiment with different prompting techniques to see how they affect the quality of the responses."
   ]
  },
  {
   "cell_type": "markdown",
   "metadata": {},
   "source": [
    "## Types of prompting\n",
    "\n",
    "For each of the types prompting, perform the following:\n",
    " - Research what the type of prompting is\n",
    " - Create a small explaination of the prompting\n",
    " - Test your type of prompting vs the control prompt (direct question)"
   ]
  },
  {
   "cell_type": "code",
   "execution_count": 13,
   "metadata": {},
   "outputs": [],
   "source": [
    "from openai import OpenAI\n",
    "\n",
    "from dotenv import load_dotenv # load enviroment variables\n",
    "import os\n",
    "\n",
    "from IPython.display import Markdown, display\n",
    "\n",
    "import tiktoken"
   ]
  },
  {
   "cell_type": "code",
   "execution_count": 15,
   "metadata": {},
   "outputs": [],
   "source": [
    "# load OpenAI Key from .env file\n",
    "load_dotenv()\n",
    "openai_api_key = os.getenv('OPENAI_API_KEY')\n",
    "\n",
    "gpt_model = \"gpt-4o-mini\" \n",
    "\n",
    "client = OpenAI(\n",
    "    # This is the default and can be omitted\n",
    "    api_key=openai_api_key,\n",
    ")"
   ]
  },
  {
   "cell_type": "markdown",
   "metadata": {
    "vscode": {
     "languageId": "plaintext"
    }
   },
   "source": [
    "### Zero-Shot Prompting\n",
    "\n",
    "Use the knowledge base to create prompts without examples.\n",
    "Test the model's ability to generate accurate responses based solely on the provided instructions.\n",
    "Assess the performance compared to few-shot prompting."
   ]
  },
  {
   "cell_type": "markdown",
   "metadata": {},
   "source": [
    "#### Explanation of Zero-Shot Prompting:\n",
    "- What is it? Zero-shot prompting involves giving the model only a query or task description without any examples. The model relies entirely on its pre-trained knowledge and the given instructions to generate responses.\n",
    "- Strengths: Works well when the task is simple or the model is well-trained on general knowledge.\n",
    "- Weaknesses: Without guidance or examples, responses can sometimes be vague or inconsistent."
   ]
  },
  {
   "cell_type": "code",
   "execution_count": 81,
   "metadata": {},
   "outputs": [
    {
     "data": {
      "text/markdown": [
       "If your browser is not responding while trying to log into the UNDP (United Nations Development Programme) website, you can try the following troubleshooting steps:\n",
       "\n",
       "1. **Check Internet Connection**: Ensure that your internet connection is stable. You can do this by trying to open other websites.\n",
       "\n",
       "2. **Restart the Browser**: Close the browser completely and reopen it. Then, try logging in again.\n",
       "\n",
       "3. **Clear Cache and Cookies**: Sometimes, corrupted cache or cookies can cause issues. Go to your browser settings and clear the cache and cookies.\n",
       "\n",
       "4. **Disable Extensions**: Browser extensions can sometimes interfere with website functionality. Try disabling any extensions you have installed, particularly ad blockers or privacy tools.\n",
       "\n",
       "5. **Update the Browser**: Ensure that your browser is up to date. An outdated browser may have compatibility issues with certain websites.\n",
       "\n",
       "6. **Try a Different Browser**: If the problem persists, try logging in using a different web browser (e.g., Chrome, Firefox, Safari, Edge).\n",
       "\n",
       "7. **Check for Website Issues**: Sometimes the problem may be on the UNDP website's end. Check their official social media pages or forums to see if there are any announcements regarding outages or maintenance.\n",
       "\n",
       "8. **Disable VPN or Proxy**: If you are using a VPN or proxy, try disabling it and see if that resolves the issue, as some sites may restrict access from certain IP addresses.\n",
       "\n",
       "9. **Restart Your Device**: Sometimes, simply restarting your computer or device can resolve temporary issues.\n",
       "\n",
       "10. **Contact Support**: If none of the above steps work, consider reaching out to UNDP's technical support for assistance.\n",
       "\n",
       "Following these steps should help you resolve the issue with your browser not responding while trying to log into the UNDP website."
      ],
      "text/plain": [
       "<IPython.core.display.Markdown object>"
      ]
     },
     "metadata": {},
     "output_type": "display_data"
    }
   ],
   "source": [
    "# -----------------------------\n",
    "# Zero-Shot Prompting\n",
    "# -----------------------------\n",
    "zero_shot_prompt = \"What should I do if my browser is not responding while logging into UNDP?\"\n",
    "\n",
    "# zero_shot_prompt = f\"\"\"\n",
    "# The customer query is: '{user_query}'.\n",
    "# Based on the knowledge provided, generate a response to help the user troubleshoot browser issues while logging into UNDP.\n",
    "# \"\"\"\n",
    "\n",
    "messages=[ \n",
    "    {\"role\": \"user\", \"content\": zero_shot_prompt},\n",
    "  ]\n",
    "\n",
    "zero_shot_response = client.chat.completions.create(\n",
    "    messages=messages,\n",
    "    model=gpt_model,    \n",
    "    max_tokens=550,\n",
    "    temperature=0.7\n",
    ")\n",
    "\n",
    "answer = zero_shot_response.choices[0].message.content\n",
    "\n",
    "# Display responses\n",
    "# print(\"\\n[Zero-Shot Prompting Response]:\\n\", answer)\n",
    "\n",
    "# Display the Markdown\n",
    "display(Markdown(answer))"
   ]
  },
  {
   "cell_type": "markdown",
   "metadata": {
    "vscode": {
     "languageId": "plaintext"
    }
   },
   "source": [
    "### Few-Shot Prompting\n",
    "\n",
    "Select a few representative emails from each category.\n",
    "Create prompts by including these examples and ask the model to generate responses for new emails.\n",
    "Evaluate the quality and relevance of the responses."
   ]
  },
  {
   "cell_type": "markdown",
   "metadata": {},
   "source": [
    "#### Explanation of Few-Shot Prompting:\n",
    "- What is it? A prompting technique where the model is given a few examples of inputs and expected outputs before being asked to generate a response.\n",
    "- Strengths: Improves response quality by providing context and guidance for task-specific outputs.\n",
    "- Weaknesses: Performance depends on the quality and representativeness of the examples provided."
   ]
  },
  {
   "cell_type": "code",
   "execution_count": 79,
   "metadata": {},
   "outputs": [
    {
     "data": {
      "text/markdown": [
       "\"We're sorry to hear that you're having trouble uploading your document. Please try the following steps: ensure your file format is supported (such as PDF or DOCX), check your internet connection, and refresh the page. If the issue persists, try clearing your browser's cache or using a different browser. If you still need assistance, feel free to reach out with the details of the error message you're receiving.\""
      ],
      "text/plain": [
       "<IPython.core.display.Markdown object>"
      ]
     },
     "metadata": {},
     "output_type": "display_data"
    }
   ],
   "source": [
    "# Few-shot examples (representative emails)\n",
    "few_shot_examples = \"\"\"\n",
    "Example 1: [Technical Support]\n",
    "Customer Email: \"I’m unable to log into my account. It says the password is incorrect, but I’m sure it’s right.\"\n",
    "Response: \"Please use the 'Forgot Password' option on the login page to reset your password.\"\n",
    "\n",
    "Example 2: [Billing Inquiry]\n",
    "Customer Email: \"I was charged twice this month for my subscription. Can you help?\"\n",
    "Response: \"We’re sorry for the inconvenience. Please share the transaction details so we can investigate and process a refund if necessary.\"\n",
    "\n",
    "Example 3: [General Inquiry]\n",
    "Customer Email: \"What are the working hours of your customer support team?\"\n",
    "Response: \"Our support team is available 24/7 to assist with any queries.\"\n",
    "\"\"\"\n",
    "\n",
    "# New email for generating a response\n",
    "new_email = \"I’m having trouble uploading a document to my job application. What should I do?\"\n",
    "\n",
    "# Create the prompt using few-shot examples and the new email\n",
    "few_shot_prompt = f\"\"\"\n",
    "{few_shot_examples}\n",
    "\n",
    "Now generate a response for the following customer email:\n",
    "Customer Email: \"{new_email}\"\n",
    "Response:\n",
    "\"\"\"\n",
    "\n",
    "messages=[ \n",
    "    {\"role\": \"user\", \"content\": few_shot_prompt},\n",
    "  ]\n",
    "\n",
    "# Generate the response using OpenAI\n",
    "few_shot_response = client.chat.completions.create(\n",
    "    messages=messages,\n",
    "    model=gpt_model,    \n",
    "    max_tokens=550,\n",
    "    temperature=0.7\n",
    ")\n",
    "\n",
    "answer = few_shot_response.choices[0].message.content\n",
    "\n",
    "# Display the model's response\n",
    "# print(\"Generated Response:\\n\", answer)\n",
    "\n",
    "# Display the Markdown\n",
    "display(Markdown(answer))"
   ]
  },
  {
   "cell_type": "markdown",
   "metadata": {},
   "source": [
    "### Chain of Thought Prompting\n",
    "\n",
    "Develop prompts that guide the model to think through the problem step-by-step before providing the final answer.\n",
    "Analyze if this approach improves the quality of technical support responses.\n"
   ]
  },
  {
   "cell_type": "markdown",
   "metadata": {},
   "source": [
    "#### Explanation of Chain of Thought Prompting: \n",
    "- What is it? A prompting technique that encourages the model to think through a problem by breaking it down into sequential reasoning steps before providing the final answer.\n",
    "- Strengths: Improves logical consistency and reasoning, especially for complex tasks.\n",
    "- Weaknesses: May produce verbose responses and require additional tuning for concise answers."
   ]
  },
  {
   "cell_type": "code",
   "execution_count": 77,
   "metadata": {},
   "outputs": [
    {
     "data": {
      "text/markdown": [
       "Subject: Assistance with Document Upload for Your Job Application\n",
       "\n",
       "Dear [Customer's Name],\n",
       "\n",
       "Thank you for reaching out regarding the difficulty you're experiencing with uploading your document to your job application. I understand how important this is, and I'm here to help you resolve this issue.\n",
       "\n",
       "Here are some possible reasons for the upload problem:\n",
       "\n",
       "1. **Unsupported File Type**: Ensure that the document you are trying to upload is in a supported format (e.g., PDF, DOC, DOCX).\n",
       "2. **File Size Limits**: Check if the file exceeds any size limits set by the application portal. Typically, the limit is around 5MB.\n",
       "3. **Browser Compatibility**: Some browsers may have compatibility issues. It’s best to use the latest version of popular browsers like Chrome, Firefox, or Edge.\n",
       "4. **Network Issues**: A weak or unstable internet connection can cause upload failures.\n",
       "\n",
       "To troubleshoot, please follow these steps:\n",
       "\n",
       "1. Verify that the document is in the correct format and does not exceed the size limit.\n",
       "2. Try uploading the document using a different browser or updating your current browser to the latest version.\n",
       "3. Check your internet connection to ensure it is stable. If possible, try connecting to a different network.\n",
       "4. Clear your browser's cache and cookies, then attempt the upload again.\n",
       "\n",
       "If you've tried all these steps and are still having trouble, please let me know, and we can explore other options to assist you further.\n",
       "\n",
       "Best regards,\n",
       "\n",
       "[Your Name]  \n",
       "[Your Position]  \n",
       "[Your Contact Information]  \n",
       "[Company Name]"
      ],
      "text/plain": [
       "<IPython.core.display.Markdown object>"
      ]
     },
     "metadata": {},
     "output_type": "display_data"
    }
   ],
   "source": [
    "# Chain of Thought Prompt for Technical Support\n",
    "chain_of_thought_prompt = \"\"\"\n",
    "The customer email is: \"I’m having trouble uploading a document to my job application. What should I do?\"\n",
    "\n",
    "Step 1: Identify the issue described by the customer.\n",
    "Step 2: Explore possible reasons for this issue (e.g., file size limits, browser compatibility, network issues).\n",
    "Step 3: Suggest troubleshooting steps to the customer based on identified causes.\n",
    "Step 4: Provide a clear, final response with actionable advice.\n",
    "\n",
    "Step 1: The customer is unable to upload a document.\n",
    "Step 2: Possible reasons include unsupported file types, large file size, or network problems.\n",
    "Step 3: Check if the document meets the file requirements. Ensure the customer is using a supported browser and has a stable connection.\n",
    "Step 4: Provide this response:\n",
    "\"\"\"\n",
    "\n",
    "# Create messages for the chat completion\n",
    "messages = [\n",
    "    {\"role\": \"system\", \"content\": chain_of_thought_prompt}\n",
    "]\n",
    "\n",
    "# Generate the response using OpenAI\n",
    "chain_of_thought_response = client.chat.completions.create(\n",
    "    messages=messages,\n",
    "    model=gpt_model,\n",
    "    max_tokens=550,\n",
    "    temperature=0.7\n",
    ")\n",
    "\n",
    "# Extract and display the response\n",
    "answer = chain_of_thought_response.choices[0].message.content\n",
    "display(Markdown(answer))"
   ]
  },
  {
   "cell_type": "markdown",
   "metadata": {},
   "source": [
    "#### Analysis\n",
    "- Evaluate Quality: Assess if the responses are more detailed, logically structured, and relevant.\n",
    "- Compare with Direct Responses: Run the same query using direct prompting and analyze the improvement in reasoning.\n",
    "- Conciseness Tuning: Adjust max_tokens and explore step compression if responses are too verbose."
   ]
  },
  {
   "cell_type": "markdown",
   "metadata": {},
   "source": [
    "### Instruction-Based Prompting\n",
    "\n",
    "Write clear and explicit instructions in the prompts for each type of customer inquiry.\n",
    "Measure the effectiveness of detailed instructions in guiding the model."
   ]
  },
  {
   "cell_type": "markdown",
   "metadata": {},
   "source": [
    "#### Explanation of Instruction-Based Prompting:\n",
    "- What is it? A prompting technique where the model is given explicit and detailed instructions on how to generate the response.\n",
    "- Strengths: Improves task-specific accuracy by clearly defining requirements and expectations.\n",
    "- Weaknesses: May fail when instructions are ambiguous or too lengthy, potentially overwhelming the model."
   ]
  },
  {
   "cell_type": "code",
   "execution_count": 83,
   "metadata": {},
   "outputs": [
    {
     "data": {
      "text/markdown": [
       "Subject: Assistance with Document Upload for Your Job Application\n",
       "\n",
       "Dear [Customer's Name],\n",
       "\n",
       "Thank you for reaching out to us regarding the difficulty you are experiencing while attempting to upload a document for your job application. I understand how important this is, and I’m here to help you resolve this issue.\n",
       "\n",
       "Here are some troubleshooting steps you can follow to successfully upload your document:\n",
       "\n",
       "1. **Check File Format**: Ensure that the document you are trying to upload is in an accepted format. Commonly accepted formats include PDF, DOC, DOCX, and JPG. If your file is in a different format, consider converting it.\n",
       "\n",
       "2. **File Size Limit**: Verify that your document does not exceed the maximum file size limit specified on the application page. If it is too large, try compressing the file or reducing its size.\n",
       "\n",
       "3. **Internet Connection**: A stable internet connection is crucial for uploading files. If you are using Wi-Fi, you might want to switch to a wired connection or try another network to see if that resolves the issue.\n",
       "\n",
       "4. **Browser Compatibility**: Sometimes, certain browsers can cause issues with uploads. Try using a different browser (such as Chrome, Firefox, or Edge) to see if that helps.\n",
       "\n",
       "5. **Clear Cache and Cookies**: Clearing your browser's cache and cookies can sometimes resolve upload issues. After doing this, close and reopen your browser and try uploading again.\n",
       "\n",
       "6. **Disable Extensions**: If you have any browser extensions enabled, particularly ad blockers, try disabling them temporarily as they may interfere with the upload process.\n",
       "\n",
       "If you have tried all these steps and are still encountering problems, please let me know. You may also want to consider reaching out to our technical support team for further assistance.\n",
       "\n",
       "I hope this helps, and please don't hesitate to ask if you need any additional assistance or have further questions!\n",
       "\n",
       "Best regards,\n",
       "\n",
       "[Your Name]  \n",
       "Customer Support Team  \n",
       "[Your Contact Information]"
      ],
      "text/plain": [
       "<IPython.core.display.Markdown object>"
      ]
     },
     "metadata": {},
     "output_type": "display_data"
    }
   ],
   "source": [
    "# Instruction-based prompt for a customer inquiry\n",
    "instruction_based_prompt = \"\"\"\n",
    "You are a customer support assistant. \n",
    "Your task is to generate a polite, detailed, and helpful response to customer inquiries by following these explicit instructions:\n",
    "1. Identify the problem stated in the email.\n",
    "2. Provide relevant troubleshooting steps or instructions.\n",
    "3. End the response with an offer to provide additional assistance if needed.\n",
    "\n",
    "Customer Email: \"I’m having trouble uploading a document to my job application. What should I do?\"\n",
    "\"\"\"\n",
    "\n",
    "# Create messages for the chat completion\n",
    "messages = [\n",
    "    {\"role\": \"system\", \"content\": instruction_based_prompt},\n",
    "]\n",
    "\n",
    "# Generate the response using OpenAI\n",
    "instruction_based_response = client.chat.completions.create(\n",
    "    messages=messages,\n",
    "    model=gpt_model,\n",
    "    max_tokens=550,\n",
    "    temperature=0.7\n",
    ")\n",
    "\n",
    "# Extract and display the response\n",
    "answer = instruction_based_response.choices[0].message.content\n",
    "display(Markdown(answer))"
   ]
  },
  {
   "cell_type": "markdown",
   "metadata": {},
   "source": [
    "#### Analysis\n",
    "- Effectiveness: Compare responses generated using instruction-based prompting with direct and few-shot prompting.\n",
    "- Clarity and Completeness: Assess whether detailed instructions lead to clear and comprehensive responses.\n",
    "- Flexibility: Test the approach across multiple categories to see if it generalizes well."
   ]
  },
  {
   "cell_type": "markdown",
   "metadata": {},
   "source": [
    "### Role-Playing Prompting\n",
    "\n",
    "Ask the model to respond as a customer service representative or technical support expert.\n",
    "Evaluate how well the model adopts the role and provides relevant information."
   ]
  },
  {
   "cell_type": "markdown",
   "metadata": {},
   "source": [
    "#### Explanation Role-Playing Prompting:\n",
    "- What is it? A prompting technique where the model is instructed to assume a specific role, such as a customer service representative, to generate responses.\n",
    "- Strengths: Enhances contextual responses by leveraging the role-based perspective, improving the personalization and relevance of answers.\n",
    "- Weaknesses: If the role isn’t well-defined or specific, the model may produce inconsistent or generic outputs."
   ]
  },
  {
   "cell_type": "code",
   "execution_count": 75,
   "metadata": {},
   "outputs": [
    {
     "data": {
      "text/markdown": [
       "Subject: Assistance with Document Upload for Your Job Application\n",
       "\n",
       "Dear [Customer's Name],\n",
       "\n",
       "Thank you for reaching out to us regarding the issue you are experiencing with uploading a document to your job application. I understand how important it is to complete your application, and I'm here to help!\n",
       "\n",
       "Here are some troubleshooting steps you can follow to resolve the issue:\n",
       "\n",
       "1. **Check File Format**: Ensure that the document you are trying to upload is in an accepted format. Common formats include PDF, DOC, DOCX, and JPG. If your document is in a different format, try converting it.\n",
       "\n",
       "2. **File Size Limit**: Verify that the file size does not exceed the maximum limit allowed by our system. This limit is typically around 5MB, but please check the specific requirements on the upload page.\n",
       "\n",
       "3. **Stable Internet Connection**: A weak or unstable internet connection can disrupt the upload process. Make sure you are connected to a reliable network.\n",
       "\n",
       "4. **Browser Compatibility**: Try using a different browser or updating your current browser to the latest version. Sometimes, certain browsers can cause compatibility issues.\n",
       "\n",
       "5. **Clear Cache and Cookies**: Clearing your browser's cache and cookies can resolve many issues related to website functionality. You can usually find this option in your browser's settings or preferences.\n",
       "\n",
       "6. **Try a Different Device**: If possible, try uploading the document from a different device (e.g., another computer, tablet, or smartphone) to see if the issue persists.\n",
       "\n",
       "If you’ve tried all these steps and are still having trouble, please let me know, and I would be happy to assist you further. You can also try contacting our technical support team directly for more immediate assistance.\n",
       "\n",
       "Thank you for your patience, and I hope you can successfully upload your document soon!\n",
       "\n",
       "Best regards,\n",
       "\n",
       "[Your Name]  \n",
       "Customer Service Representative  \n",
       "[Your Company]  \n",
       "[Contact Information]  "
      ],
      "text/plain": [
       "<IPython.core.display.Markdown object>"
      ]
     },
     "metadata": {},
     "output_type": "display_data"
    }
   ],
   "source": [
    "# Role-playing prompt for a customer inquiry\n",
    "role_playing_prompt = \"\"\"\n",
    "You are a professional customer service representative for an online recruitment system. \n",
    "Your role is to respond to customers in a polite, informative, and empathetic manner. \n",
    "Provide helpful troubleshooting steps based on the customer’s query.\n",
    "\n",
    "Customer Email: \"I’m having trouble uploading a document to my job application. What should I do?\"\n",
    "\"\"\"\n",
    "\n",
    "# Create messages for the chat completion\n",
    "messages = [\n",
    "    {\"role\": \"system\", \"content\": role_playing_prompt}\n",
    "]\n",
    "\n",
    "# Generate the response using OpenAI\n",
    "role_playing_response = client.chat.completions.create(\n",
    "    messages=messages,\n",
    "    model=gpt_model,\n",
    "    max_tokens=550,\n",
    "    temperature=0.7\n",
    ")\n",
    "\n",
    "# Extract and display the response\n",
    "answer = role_playing_response.choices[0].message.content\n",
    "display(Markdown(answer))"
   ]
  },
  {
   "cell_type": "markdown",
   "metadata": {},
   "source": [
    "#### Analysis\n",
    "- Role Adoption: Check how effectively the model adopts the customer service representative role.\n",
    "- Response Quality: Evaluate whether the response is polite, empathetic, and provides relevant information.\n",
    "- Comparison: Compare role-playing prompting with direct or zero-shot prompting to measure improvement in response personalization."
   ]
  },
  {
   "cell_type": "markdown",
   "metadata": {},
   "source": [
    "### Contextual Prompting\n",
    "\n",
    "Provide relevant context from previous email threads or the knowledge base before posing the main question.\n",
    "Test if providing context improves the accuracy and relevance of the responses."
   ]
  },
  {
   "cell_type": "markdown",
   "metadata": {},
   "source": [
    "#### Explanation of Contextual Prompting:\n",
    "- What is it? A prompting technique where additional context, such as previous interactions or knowledge base content, is provided before posing a question to the model.\n",
    "- Strengths: Improves accuracy and relevance by grounding the model’s response in specific, relevant information.\n",
    "- Weaknesses: Context selection must be precise, or irrelevant or excessive context may confuse the model."
   ]
  },
  {
   "cell_type": "code",
   "execution_count": 89,
   "metadata": {},
   "outputs": [
    {
     "data": {
      "text/markdown": [
       "Subject: Re: Issues with Uploading Document\n",
       "\n",
       "Hi [Customer's Name],\n",
       "\n",
       "Thank you for your patience. Since clearing the cache didn't resolve the issue, here are a few additional steps you can try:\n",
       "\n",
       "1. **Check File Size and Format**: Ensure that your CV is within the file size limit and in the correct format (PDF). Sometimes, even small discrepancies can cause upload failures.\n",
       "\n",
       "2. **Try a Different Browser**: If you haven't already, try uploading your document using a different browser, such as Firefox or Edge. This can help identify if the problem is browser-specific.\n",
       "\n",
       "3. **Disable Browser Extensions**: Some browser extensions can interfere with file uploads. Temporarily disable any extensions you have and try uploading again.\n",
       "\n",
       "4. **Check Internet Connection**: While you mentioned your internet seems fine, it might be worth testing your connection speed or trying a different network if possible.\n",
       "\n",
       "5. **Restart Your Device**: Sometimes, a simple restart can resolve underlying issues.\n",
       "\n",
       "If you’ve tried all of the above and are still having trouble, please let me know, and we can explore further options.\n",
       "\n",
       "Best regards,\n",
       "\n",
       "[Your Name]  \n",
       "[Your Position]  \n",
       "[Your Contact Information]  "
      ],
      "text/plain": [
       "<IPython.core.display.Markdown object>"
      ]
     },
     "metadata": {},
     "output_type": "display_data"
    }
   ],
   "source": [
    "# Context from knowledge base and previous interaction\n",
    "context_knowledge_base = \"\"\"\n",
    "FAQ: If you experience issues uploading documents, check if the document meets the file size limit and format requirements. Ensure you are using a supported browser and that your internet connection is stable.\n",
    "\"\"\"\n",
    "\n",
    "previous_email_thread = \"\"\"\n",
    "Previous Email from Customer: \"I tried uploading my CV in PDF format, but it keeps failing. I'm using Chrome, and my internet seems fine.\"\n",
    "Support Response: \"Please ensure your file is within the allowed size and format. If the problem persists, try clearing your browser cache or using a different browser.\"\n",
    "\"\"\"\n",
    "\n",
    "# Customer's new query\n",
    "new_customer_query = \"I tried clearing the cache, but it’s still not working. What else can I do?\"\n",
    "\n",
    "# Contextual prompt creation\n",
    "contextual_prompt = f\"\"\"\n",
    "Context from Knowledge Base:\n",
    "{context_knowledge_base}\n",
    "\n",
    "Previous Interaction:\n",
    "{previous_email_thread}\n",
    "\n",
    "Customer's New Query: \"{new_customer_query}\"\n",
    "Please generate a helpful response considering the context provided.\n",
    "\"\"\"\n",
    "\n",
    "# Create messages for the chat completion\n",
    "messages = [\n",
    "    {\"role\": \"user\", \"content\": contextual_prompt}\n",
    "]\n",
    "\n",
    "# Generate the response using OpenAI\n",
    "contextual_response = client.chat.completions.create(\n",
    "    messages=messages,\n",
    "    model=gpt_model,\n",
    "    max_tokens=550,\n",
    "    temperature=0.7\n",
    ")\n",
    "\n",
    "# Extract and display the response\n",
    "answer = contextual_response.choices[0].message.content\n",
    "display(Markdown(answer))"
   ]
  },
  {
   "cell_type": "markdown",
   "metadata": {},
   "source": [
    "#### Analysis\n",
    "- Accuracy: Determine if the model provides a relevant, context-aware response.\n",
    "- Relevance: Check if the model uses context effectively without repeating irrelevant details.\n",
    "- Comparison: Compare contextual prompting responses against zero-shot or direct prompting."
   ]
  },
  {
   "cell_type": "markdown",
   "metadata": {},
   "source": [
    "### Conversational Prompting\n",
    "\n",
    "Create a dialogue-style prompt where the model continues an ongoing conversation with the customer.\n",
    "Observe how well the model maintains context and coherence in multi-turn conversations."
   ]
  },
  {
   "cell_type": "markdown",
   "metadata": {},
   "source": [
    "#### Explanation for Conversational Prompting: \n",
    "- What is it? A prompting technique where the model responds within an ongoing dialogue by maintaining context and coherence across multiple turns.\n",
    "- Strengths: Effective for multi-turn conversations, allowing the model to provide responses that are contextually aware and natural.\n",
    "- Weaknesses: Context drift may occur if the model doesn’t correctly recall or maintain key details from earlier turns."
   ]
  },
  {
   "cell_type": "code",
   "execution_count": 95,
   "metadata": {},
   "outputs": [
    {
     "data": {
      "text/markdown": [
       "Thanks for the information. Here are a few troubleshooting steps you can try:\n",
       "\n",
       "1. **Check File Name**: Ensure that your PDF file name doesn’t contain any special characters or spaces. Try renaming it to something simple, like \"Resume.pdf\".\n",
       "\n",
       "2. **Clear Cache and Cookies**: Sometimes, browser issues can interfere with uploads. Try clearing your browser's cache and cookies, or use a different browser.\n",
       "\n",
       "3. **Disable Browser Extensions**: Certain browser extensions can conflict with file uploads. Temporarily disable any extensions and try again.\n",
       "\n",
       "4. **Internet Connection**: Make sure your internet connection is stable. A weak connection can disrupt the upload process.\n",
       "\n",
       "5. **Try a Different Device**: If possible, try uploading the resume from a different device.\n",
       "\n",
       "If you continue to experience issues, please let me know what error message (if any) you’re seeing, and I can help you further."
      ],
      "text/plain": [
       "<IPython.core.display.Markdown object>"
      ]
     },
     "metadata": {},
     "output_type": "display_data"
    }
   ],
   "source": [
    "# Multi-turn conversation history\n",
    "conversation_history = [\n",
    "    {\"role\": \"system\", \"content\": \"You are a helpful customer support assistant for an online recruitment system.\"},\n",
    "    {\"role\": \"user\", \"content\": \"I’m having trouble uploading my resume to the job application portal.\"},\n",
    "    {\"role\": \"assistant\", \"content\": \"I’m sorry to hear that. Can you tell me what file format you are using and whether you’ve checked the file size limit?\"}\n",
    "]\n",
    "\n",
    "# Customer's next input\n",
    "new_customer_input = \"I'm using a PDF file, and it's well below the size limit.\"\n",
    "\n",
    "# Add the new user input to the conversation history\n",
    "conversation_history.append({\"role\": \"user\", \"content\": new_customer_input})\n",
    "\n",
    "# Generate a response using OpenAI\n",
    "conversational_response = client.chat.completions.create(\n",
    "    messages=conversation_history,\n",
    "    model=gpt_model,\n",
    "    max_tokens=550,\n",
    "    temperature=0.7\n",
    ")\n",
    "\n",
    "# Extract and display the response\n",
    "answer = conversational_response.choices[0].message.content\n",
    "display(Markdown(answer))"
   ]
  },
  {
   "cell_type": "markdown",
   "metadata": {},
   "source": [
    "#### Analysis\n",
    "- Context Maintenance: Evaluate if the model correctly recalls and incorporates details from previous turns.\n",
    "- Coherence: Check whether the response flows naturally within the conversation.\n",
    "- Multi-Turn Performance: Extend the conversation to test consistency across longer dialogues."
   ]
  },
  {
   "cell_type": "markdown",
   "metadata": {},
   "source": [
    "### Contrastive Prompting\n",
    "\n",
    "Show the model examples of both good and bad responses.\n",
    "Use these contrasting examples to guide the model towards generating better responses.\n",
    "Compare the results with other techniques."
   ]
  },
  {
   "cell_type": "markdown",
   "metadata": {},
   "source": [
    "#### Explanation for Contrastive Prompting: \n",
    "- What is it? A prompting technique where the model is shown both good and bad examples of responses to guide it toward generating better answers.\n",
    "- Strengths: Improves response quality by clarifying what constitutes a good or bad output.\n",
    "- Weaknesses: Requires carefully designed contrasting examples to avoid confusing or misleading the model."
   ]
  },
  {
   "cell_type": "code",
   "execution_count": 104,
   "metadata": {},
   "outputs": [
    {
     "data": {
      "text/markdown": [
       "Subject: Re: Trouble Uploading Resume\n",
       "\n",
       "Dear [Customer's Name],\n",
       "\n",
       "Thank you for reaching out regarding the issue you’re experiencing with uploading your resume. I understand how important it is to submit your application successfully.\n",
       "\n",
       "Since your resume is in PDF format and within the size limit, here are a few steps you can try:\n",
       "\n",
       "1. **Supported Browsers:** Ensure you are using a supported browser (such as Chrome, Firefox, or Safari). If you're using an unsupported browser, please switch to one of these.\n",
       "\n",
       "2. **Clear Cache and Cookies:** Sometimes, clearing your browser's cache and cookies can resolve upload issues. After doing this, please try uploading your resume again.\n",
       "\n",
       "3. **Check File Name:** Ensure that the file name of your resume does not contain any special characters or spaces, as this can sometimes interfere with the upload process.\n",
       "\n",
       "4. **Try a Different Device:** If possible, try uploading your resume from a different device to see if the issue persists.\n",
       "\n",
       "If you have tried these steps and are still facing difficulties, please let me know, and I can assist you further or provide additional support options.\n",
       "\n",
       "Best regards,\n",
       "\n",
       "[Your Name]  \n",
       "[Your Position]  \n",
       "[Your Contact Information]  \n",
       "[Company Name]  "
      ],
      "text/plain": [
       "<IPython.core.display.Markdown object>"
      ]
     },
     "metadata": {},
     "output_type": "display_data"
    }
   ],
   "source": [
    "\n",
    "# Contrastive examples for guiding the model\n",
    "contrastive_prompt = \"\"\"\n",
    "The following are examples of responses to a customer issue about not being able to upload a document to the job application portal.\n",
    "\n",
    "Bad Response:\n",
    "- \"Just try again later.\"\n",
    "\n",
    "Why this response is bad: It is vague, dismissive, and does not offer actionable advice.\n",
    "\n",
    "Good Response:\n",
    "- \"Please check that your document meets the size and format requirements. If you are using a supported browser and still face issues, try clearing your cache or switching browsers. For additional help, contact support.\"\n",
    "\n",
    "Why this response is good: It is specific, actionable, and offers multiple troubleshooting steps.\n",
    "\n",
    "Now, generate a good response to the following customer email:\n",
    "Customer Email: \"I’m having trouble uploading my resume to the job application portal. It’s in PDF format, and the size is below the limit.\"\n",
    "\"\"\"\n",
    "\n",
    "# Create messages for the chat completion\n",
    "messages = [\n",
    "    {\"role\": \"user\", \"content\": contrastive_prompt}\n",
    "]\n",
    "\n",
    "# Generate the response using OpenAI\n",
    "contrastive_response = client.chat.completions.create(\n",
    "    messages=messages,\n",
    "    model=gpt_model,\n",
    "    max_tokens=550,\n",
    "    temperature=0.7\n",
    ")\n",
    "\n",
    "# Extract and display the response\n",
    "answer = contrastive_response.choices[0].message.content\n",
    "display(Markdown(answer))"
   ]
  },
  {
   "cell_type": "markdown",
   "metadata": {},
   "source": [
    "#### Analysis\n",
    "- Response Quality: Assess if the model generates better responses compared to direct or zero-shot prompts.\n",
    "- Impact of Contrastive Examples: Evaluate how effectively the contrasting examples guide the model toward better answers.\n",
    "- Comparison: Compare contrastive prompting against contextual and few-shot prompting."
   ]
  },
  {
   "cell_type": "markdown",
   "metadata": {},
   "source": [
    "### Specificity Prompting\n",
    "\n",
    "Ask the model to respond with a specific style, tone, or level of detail, such as formal, friendly, or concise.\n",
    "Assess how well the model adapts its responses to the specified requirements."
   ]
  },
  {
   "cell_type": "markdown",
   "metadata": {},
   "source": [
    "#### Explanation for Specificity Prompting: \n",
    "- What is it? A prompting technique where the model is instructed to generate responses with a specific style, tone, or level of detail.\n",
    "- Strengths: Enhances control over the output, allowing customization for various contexts or audiences.\n",
    "- Weaknesses: Requires clear instructions, and overly specific prompts may limit creativity or flexibility."
   ]
  },
  {
   "cell_type": "code",
   "execution_count": 111,
   "metadata": {},
   "outputs": [
    {
     "data": {
      "text/markdown": [
       "**Formal Response:**\n",
       "\n",
       "Subject: Assistance with Resume Upload Issue\n",
       "\n",
       "Dear [Customer's Name],\n",
       "\n",
       "Thank you for reaching out regarding the difficulties you are experiencing while uploading your resume to our job application portal. We understand how important this process is, and we are here to assist you.\n",
       "\n",
       "To help resolve this issue, please follow these detailed instructions:\n",
       "\n",
       "1. **Check Browser Compatibility**: Ensure that you are using an updated version of a supported web browser, such as Google Chrome, Mozilla Firefox, or Microsoft Edge.\n",
       "\n",
       "2. **Clear Browser Cache**: Sometimes, cached data can interfere with uploads. Please clear your browser's cache and cookies, then restart the browser.\n",
       "\n",
       "3. **File Format**: Although you mentioned your resume is in PDF format, please double-check that it adheres to the following specifications:\n",
       "   - The PDF is not password protected.\n",
       "   - The file name does not contain any special characters (e.g., &, %, $, etc.).\n",
       "\n",
       "4. **File Size**: Confirm that the PDF file size is indeed below the maximum limit specified on the upload page.\n",
       "\n",
       "5. **Try a Different Device**: If possible, try uploading the resume using a different device or network to rule out any local connectivity issues.\n",
       "\n",
       "6. **Contact Support**: If you continue to experience difficulties after following these steps, please reply to this email or contact our technical support team at [support email/phone number]. We will be happy to assist you further.\n",
       "\n",
       "We appreciate your patience and look forward to resolving this matter promptly.\n",
       "\n",
       "Best regards,\n",
       "\n",
       "[Your Name]  \n",
       "[Your Job Title]  \n",
       "[Company Name]  \n",
       "[Contact Information]\n",
       "\n",
       "---\n",
       "\n",
       "**Friendly Response:**\n",
       "\n",
       "Subject: Let’s Get Your Resume Uploaded!\n",
       "\n",
       "Hi [Customer's Name],\n",
       "\n",
       "Thanks for reaching out! I understand how frustrating it can be when technology doesn’t cooperate, especially when you’re trying to upload your resume. Let’s see if we can sort this out together!\n",
       "\n",
       "Here are a few quick troubleshooting steps you can try:\n",
       "\n",
       "1. **Browser Check**: Make sure you’re using an updated browser like Chrome or Firefox. Sometimes older versions can cause issues.\n",
       "\n",
       "2. **Clear Your Cache**: This is a simple fix! Try clearing your browser’s cache and cookies. It can really help with upload issues. After clearing, just restart your browser and give it another shot!\n",
       "\n",
       "3. **File Format and Size**: You mentioned it’s a PDF, which is great! Just double-check that it’s not password protected and that the file name is clean (no special characters). And make sure it’s under the size limit.\n",
       "\n",
       "4. **Try Another Device**: If you have access to another computer or even a mobile device, give that a go! Sometimes a fresh start makes all the difference.\n",
       "\n",
       "If you’re still having trouble after trying these steps, just let me know, and we can dive deeper into the issue together. I’m here to help!\n",
       "\n",
       "Good luck, and I hope to hear from you soon!\n",
       "\n",
       "Best,  \n",
       "[Your Name]  \n",
       "[Your Job Title]  \n",
       "[Company Name]  \n",
       "[Contact Information]"
      ],
      "text/plain": [
       "<IPython.core.display.Markdown object>"
      ]
     },
     "metadata": {},
     "output_type": "display_data"
    }
   ],
   "source": [
    "# Prompt specifying two different tones: formal and friendly\n",
    "specificity_prompt = \"\"\"\n",
    "The customer email is: \"I’m having trouble uploading my resume to the job application portal. It’s in PDF format, and the size is below the limit.\"\n",
    "\n",
    "Generate two responses:\n",
    "1. A formal response with detailed instructions.\n",
    "2. A friendly response that reassures the customer and provides simple troubleshooting steps.\n",
    "\"\"\"\n",
    "\n",
    "# Create messages for the chat completion\n",
    "messages = [\n",
    "    {\"role\": \"user\", \"content\": specificity_prompt}\n",
    "]\n",
    "\n",
    "# Generate the response using OpenAI\n",
    "specificity_response = client.chat.completions.create(\n",
    "    messages=messages,\n",
    "    model=gpt_model,\n",
    "    max_tokens=1250,\n",
    "    temperature=0.7\n",
    ")\n",
    "\n",
    "# Extract and display the response\n",
    "answer = specificity_response.choices[0].message.content\n",
    "display(Markdown(answer))"
   ]
  },
  {
   "cell_type": "markdown",
   "metadata": {},
   "source": [
    "#### Analysis\n",
    "- Tone and Style Accuracy: Check if the formal response is professional and detailed, while the friendly response is reassuring and simple.\n",
    "- Adaptability: Assess if the model effectively switches tones while maintaining relevant information.\n",
    "- Comparison: Compare this approach with role-playing and instruction-based prompting to see which gives more consistent tone control."
   ]
  },
  {
   "cell_type": "markdown",
   "metadata": {},
   "source": [
    "### Iterative Refinement Prompting\n",
    "\n",
    "Ask the model to refine or improve upon its previous response.\n",
    "Experiment with multiple iterations to see if responses improve over time."
   ]
  },
  {
   "cell_type": "markdown",
   "metadata": {},
   "source": [
    "#### Explanation for Iterative Refinement Prompting\n",
    "- What is it? A prompting technique where the model iteratively refines its previous responses based on feedback or instructions.\n",
    "- Strengths: Allows gradual improvement, leading to more polished and precise responses.\n",
    "- Weaknesses: May lead to diminishing returns or over-refinement if not managed carefully."
   ]
  },
  {
   "cell_type": "code",
   "execution_count": 118,
   "metadata": {},
   "outputs": [
    {
     "data": {
      "text/markdown": [
       "**Initial Response:**\n",
       "Subject: Assistance with Resume Upload\n",
       "\n",
       "Dear [Customer's Name],\n",
       "\n",
       "Thank you for reaching out to us regarding the issue you’re experiencing with uploading your resume. I’m here to help you troubleshoot this problem.\n",
       "\n",
       "Here are a few steps you can try:\n",
       "\n",
       "1. **Check File Name**: Ensure that your PDF file name doesn’t contain any special characters or spaces. A simple name (e.g., \"Resume.pdf\") is recommended.\n",
       "\n",
       "2. **Browser Compatibility**: Sometimes, certain browsers can cause issues with uploads. Try using a different browser (e.g., Chrome, Firefox, Safari) or clear your current browser's cache and cookies.\n",
       "\n",
       "3. **File Size and Format**: While you mentioned that your file is below the size limit and in PDF format, please confirm that the file is not corrupted. You could try opening the PDF on your device to ensure it displays correctly.\n",
       "\n",
       "4. **Internet Connection**: Ensure that your internet connection is stable. A weak connection may interrupt the upload process.\n",
       "\n",
       "5. **Try a Different Device**: If possible, try to upload your resume from a different device to see if the issue persists.\n",
       "\n",
       "If you’ve tried these steps and are still encountering difficulties, please let me know, and I’ll be happy to assist you further.\n",
       "\n",
       "Best regards,\n",
       "\n",
       "[Your Name]  \n",
       "[Your Position]  \n",
       "[Company Name]  \n",
       "[Contact Information]  \n",
       "\n",
       "**Refined Response:**\n",
       "Subject: Assistance with Resume Upload\n",
       "\n",
       "Dear [Customer's Name],\n",
       "\n",
       "Thank you for reaching out to us about the issue you're experiencing with uploading your resume. I'm here to help you resolve this quickly and effectively.\n",
       "\n",
       "Please follow these enhanced troubleshooting steps:\n",
       "\n",
       "1. **File Name Check**: Ensure your PDF file name is simple and does not include any special characters, spaces, or long titles. A name like \"Resume.pdf\" works best.\n",
       "\n",
       "2. **Browser Compatibility**:\n",
       "   - Use a modern browser such as Google Chrome, Mozilla Firefox, or Safari. \n",
       "   - If you are already using one of these, try updating it to the latest version.\n",
       "   - Clear your browser's cache and cookies by going to the settings menu, which can often resolve upload issues.\n",
       "\n",
       "3. **File Size and Format**:\n",
       "   - Confirm that your PDF file is under the maximum size limit specified on our upload page. \n",
       "   - Ensure the file is not corrupted by opening it on your device. If it doesn’t open or displays errors, try creating a new PDF.\n",
       "\n",
       "4. **Internet Connection**:\n",
       "   - Check your internet connection's stability. If possible, switch to a wired connection or a different Wi-Fi network to improve upload reliability.\n",
       "\n",
       "5. **Disabling Browser Extensions**: Sometimes, browser extensions can interfere with uploads. Try disabling any extensions, especially ad blockers or script blockers, and attempt the upload again.\n",
       "\n",
       "6. **Using Incognito/Private Mode**: Open your browser in incognito or private mode (usually accessible through the browser menu) and try uploading your resume again. This mode can help bypass certain settings that may be causing issues.\n",
       "\n",
       "7. **Alternative Device**: If you have access to another device (like a smartphone or tablet), attempt the upload from there to see if the problem persists.\n",
       "\n",
       "If you've followed all these steps and are still experiencing difficulties, please reply to this email with any error messages you encounter or additional details about the issue, and I'll be more than happy to assist you further.\n",
       "\n",
       "Best regards,\n",
       "\n",
       "[Your Name]  \n",
       "[Your Position]  \n",
       "[Company Name]  \n",
       "[Contact Information]  "
      ],
      "text/plain": [
       "<IPython.core.display.Markdown object>"
      ]
     },
     "metadata": {},
     "output_type": "display_data"
    }
   ],
   "source": [
    "# Initial prompt to generate the first response\n",
    "initial_prompt = \"\"\"\n",
    "The customer email is: \"I’m having trouble uploading my resume to the job application portal. It’s in PDF format, and the size is below the limit.\"\n",
    "Provide a response to help the customer troubleshoot the issue.\n",
    "\"\"\"\n",
    "\n",
    "# Create messages for the initial response\n",
    "initial_messages = [\n",
    "    {\"role\": \"user\", \"content\": initial_prompt}\n",
    "]\n",
    "\n",
    "# Generate the initial response\n",
    "initial_response = client.chat.completions.create(\n",
    "    messages=initial_messages,\n",
    "    model=gpt_model,\n",
    "    max_tokens=550,\n",
    "    temperature=0.7\n",
    ")\n",
    "\n",
    "# Extract the initial response\n",
    "first_response = initial_response.choices[0].message.content\n",
    "\n",
    "# Refinement prompt to improve the initial response\n",
    "refinement_prompt = f\"\"\"\n",
    "The initial response was: \"{first_response}\"\n",
    "Now refine this response by:\n",
    "1. Adding more specific troubleshooting steps.\n",
    "2. Improving clarity and making the response more user-friendly.\n",
    "\"\"\"\n",
    "\n",
    "# Create messages for refinement\n",
    "refinement_messages = [\n",
    "    {\"role\": \"user\", \"content\": refinement_prompt}\n",
    "]\n",
    "\n",
    "# Generate the refined response\n",
    "refined_response = client.chat.completions.create(\n",
    "    messages=refinement_messages,\n",
    "    model=gpt_model,\n",
    "    max_tokens=550,\n",
    "    temperature=0.7\n",
    ")\n",
    "\n",
    "# Extract and display the refined response\n",
    "final_response = refined_response.choices[0].message.content\n",
    "display(Markdown(f\"**Initial Response:**\\n{first_response}\\n\\n**Refined Response:**\\n{final_response}\"))"
   ]
  },
  {
   "cell_type": "markdown",
   "metadata": {},
   "source": [
    "#### Analysis\n",
    "- Improvement Analysis: Check if the refined responses are more specific, clear, and user-friendly compared to the initial ones.\n",
    "- Convergence: Evaluate how many iterations are needed before improvements level off.\n",
    "- Feedback Sensitivity: Experiment with different feedback instructions to see how well the model adapts."
   ]
  },
  {
   "cell_type": "code",
   "execution_count": null,
   "metadata": {},
   "outputs": [],
   "source": []
  }
 ],
 "metadata": {
  "kernelspec": {
   "display_name": "Python (base)",
   "language": "python",
   "name": "base"
  },
  "language_info": {
   "codemirror_mode": {
    "name": "ipython",
    "version": 3
   },
   "file_extension": ".py",
   "mimetype": "text/x-python",
   "name": "python",
   "nbconvert_exporter": "python",
   "pygments_lexer": "ipython3",
   "version": "3.12.2"
  }
 },
 "nbformat": 4,
 "nbformat_minor": 4
}
